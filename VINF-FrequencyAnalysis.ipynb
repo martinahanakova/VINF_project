{
 "cells": [
  {
   "cell_type": "code",
   "execution_count": 430,
   "metadata": {},
   "outputs": [],
   "source": [
    "%matplotlib inline\n",
    "import pandas as pd\n",
    "import numpy as np\n",
    "import json\n",
    "import nltk"
   ]
  },
  {
   "cell_type": "code",
   "execution_count": 534,
   "metadata": {},
   "outputs": [],
   "source": [
    "with open('/Users/Martina/VINF/out_reducer2-9.txt') as f:\n",
    "    data = json.load(f)"
   ]
  },
  {
   "cell_type": "code",
   "execution_count": 535,
   "metadata": {},
   "outputs": [],
   "source": [
    "data = pd.DataFrame(data)"
   ]
  },
  {
   "cell_type": "markdown",
   "metadata": {},
   "source": [
    "Počet spracovaných záznamov"
   ]
  },
  {
   "cell_type": "code",
   "execution_count": 433,
   "metadata": {},
   "outputs": [
    {
     "data": {
      "text/plain": [
       "390844"
      ]
     },
     "execution_count": 433,
     "metadata": {},
     "output_type": "execute_result"
    }
   ],
   "source": [
    "data_length = len(data)\n",
    "data_length"
   ]
  },
  {
   "cell_type": "markdown",
   "metadata": {},
   "source": [
    "### Abstract"
   ]
  },
  {
   "cell_type": "code",
   "execution_count": 434,
   "metadata": {},
   "outputs": [],
   "source": [
    "data['abstract'].fillna('No abstract', inplace = True)"
   ]
  },
  {
   "cell_type": "markdown",
   "metadata": {},
   "source": [
    "Počet záznamov bez abstraktu"
   ]
  },
  {
   "cell_type": "code",
   "execution_count": 435,
   "metadata": {},
   "outputs": [
    {
     "data": {
      "text/plain": [
       "44445"
      ]
     },
     "execution_count": 435,
     "metadata": {},
     "output_type": "execute_result"
    }
   ],
   "source": [
    "no_abstract = data['abstract'].value_counts()['No abstract']\n",
    "no_abstract"
   ]
  },
  {
   "cell_type": "code",
   "execution_count": 436,
   "metadata": {},
   "outputs": [],
   "source": [
    "data['abstract_len'] = data['abstract'].apply(lambda x: 0 if x == 'No abstract' else len(nltk.word_tokenize(x)))"
   ]
  },
  {
   "cell_type": "markdown",
   "metadata": {},
   "source": [
    "Abstrakt s najväčším počtom slov"
   ]
  },
  {
   "cell_type": "code",
   "execution_count": 437,
   "metadata": {},
   "outputs": [
    {
     "data": {
      "text/plain": [
       "abstract_len    2937\n",
       "dtype: int64"
      ]
     },
     "execution_count": 437,
     "metadata": {},
     "output_type": "execute_result"
    }
   ],
   "source": [
    "data[['abstract_len']].max()"
   ]
  },
  {
   "cell_type": "code",
   "execution_count": 474,
   "metadata": {},
   "outputs": [
    {
     "data": {
      "text/html": [
       "<div>\n",
       "<style scoped>\n",
       "    .dataframe tbody tr th:only-of-type {\n",
       "        vertical-align: middle;\n",
       "    }\n",
       "\n",
       "    .dataframe tbody tr th {\n",
       "        vertical-align: top;\n",
       "    }\n",
       "\n",
       "    .dataframe thead th {\n",
       "        text-align: right;\n",
       "    }\n",
       "</style>\n",
       "<table border=\"1\" class=\"dataframe\">\n",
       "  <thead>\n",
       "    <tr style=\"text-align: right;\">\n",
       "      <th></th>\n",
       "      <th>title</th>\n",
       "    </tr>\n",
       "  </thead>\n",
       "  <tbody>\n",
       "    <tr>\n",
       "      <th>63811</th>\n",
       "      <td>U K  railway  stations   \\u2013  b</td>\n",
       "    </tr>\n",
       "  </tbody>\n",
       "</table>\n",
       "</div>"
      ],
      "text/plain": [
       "                                    title\n",
       "63811  U K  railway  stations   \\u2013  b"
      ]
     },
     "execution_count": 474,
     "metadata": {},
     "output_type": "execute_result"
    }
   ],
   "source": [
    "data[['title']][(data['abstract_len'] == 2937)]"
   ]
  },
  {
   "cell_type": "markdown",
   "metadata": {},
   "source": [
    "Abstrakt s najmenším počtom slov"
   ]
  },
  {
   "cell_type": "code",
   "execution_count": 439,
   "metadata": {},
   "outputs": [
    {
     "data": {
      "text/plain": [
       "abstract_len    1\n",
       "dtype: int64"
      ]
     },
     "execution_count": 439,
     "metadata": {},
     "output_type": "execute_result"
    }
   ],
   "source": [
    "data[['abstract_len']][(data['abstract_len'] > 0)].min()"
   ]
  },
  {
   "cell_type": "code",
   "execution_count": 440,
   "metadata": {},
   "outputs": [
    {
     "data": {
      "text/html": [
       "<div>\n",
       "<style scoped>\n",
       "    .dataframe tbody tr th:only-of-type {\n",
       "        vertical-align: middle;\n",
       "    }\n",
       "\n",
       "    .dataframe tbody tr th {\n",
       "        vertical-align: top;\n",
       "    }\n",
       "\n",
       "    .dataframe thead th {\n",
       "        text-align: right;\n",
       "    }\n",
       "</style>\n",
       "<table border=\"1\" class=\"dataframe\">\n",
       "  <thead>\n",
       "    <tr style=\"text-align: right;\">\n",
       "      <th></th>\n",
       "      <th>title</th>\n",
       "      <th>key</th>\n",
       "      <th>abstract</th>\n",
       "    </tr>\n",
       "  </thead>\n",
       "  <tbody>\n",
       "    <tr>\n",
       "      <th>14700</th>\n",
       "      <td>Traditional   Korean  medicine</td>\n",
       "      <td>http://dbpedia.org/resource/Traditional_Korean...</td>\n",
       "      <td>Traditional Korean medicine</td>\n",
       "    </tr>\n",
       "    <tr>\n",
       "      <th>18892</th>\n",
       "      <td>Transport  in   Ecuador</td>\n",
       "      <td>http://dbpedia.org/resource/Transport_in_Ecuador</td>\n",
       "      <td>Transportation in Ecuador</td>\n",
       "    </tr>\n",
       "    <tr>\n",
       "      <th>63810</th>\n",
       "      <td>U K  railway  stations   \\u2013  a</td>\n",
       "      <td>http://dbpedia.org/resource/UK_railway_station...</td>\n",
       "      <td>|},</td>\n",
       "    </tr>\n",
       "    <tr>\n",
       "      <th>98069</th>\n",
       "      <td>United   States   Army   Combined   Arms   Center</td>\n",
       "      <td>http://dbpedia.org/resource/United_States_Army...</td>\n",
       "      <td>The U.S.</td>\n",
       "    </tr>\n",
       "    <tr>\n",
       "      <th>186537</th>\n",
       "      <td>Volcanoes  of   Mozambique</td>\n",
       "      <td>http://dbpedia.org/resource/Volcanoes_of_Mozam...</td>\n",
       "      <td>Volcanoes of Mozambique</td>\n",
       "    </tr>\n",
       "    <tr>\n",
       "      <th>211126</th>\n",
       "      <td>Waffen- S S   Commanders</td>\n",
       "      <td>http://dbpedia.org/resource/Waffen-SS_Commanders</td>\n",
       "      <td>Waffen-SS Division Commanders</td>\n",
       "    </tr>\n",
       "    <tr>\n",
       "      <th>245418</th>\n",
       "      <td>Wen-bin   Chen</td>\n",
       "      <td>http://dbpedia.org/resource/Wen-bin_Chen</td>\n",
       "      <td>Wen-bin Chen (</td>\n",
       "    </tr>\n",
       "    <tr>\n",
       "      <th>307316</th>\n",
       "      <td>Wisconsin  gubernatorial  elections</td>\n",
       "      <td>http://dbpedia.org/resource/Wisconsin_gubernat...</td>\n",
       "      <td>^ Recall Election</td>\n",
       "    </tr>\n",
       "    <tr>\n",
       "      <th>359337</th>\n",
       "      <td>Young  v   Bristol   Aeroplane   Co   Ltd</td>\n",
       "      <td>http://dbpedia.org/resource/Young_v_Bristol_Ae...</td>\n",
       "      <td>Young v.</td>\n",
       "    </tr>\n",
       "  </tbody>\n",
       "</table>\n",
       "</div>"
      ],
      "text/plain": [
       "                                                    title  \\\n",
       "14700                      Traditional   Korean  medicine   \n",
       "18892                             Transport  in   Ecuador   \n",
       "63810                  U K  railway  stations   \\u2013  a   \n",
       "98069   United   States   Army   Combined   Arms   Center   \n",
       "186537                         Volcanoes  of   Mozambique   \n",
       "211126                           Waffen- S S   Commanders   \n",
       "245418                                     Wen-bin   Chen   \n",
       "307316                Wisconsin  gubernatorial  elections   \n",
       "359337          Young  v   Bristol   Aeroplane   Co   Ltd   \n",
       "\n",
       "                                                      key  \\\n",
       "14700   http://dbpedia.org/resource/Traditional_Korean...   \n",
       "18892    http://dbpedia.org/resource/Transport_in_Ecuador   \n",
       "63810   http://dbpedia.org/resource/UK_railway_station...   \n",
       "98069   http://dbpedia.org/resource/United_States_Army...   \n",
       "186537  http://dbpedia.org/resource/Volcanoes_of_Mozam...   \n",
       "211126   http://dbpedia.org/resource/Waffen-SS_Commanders   \n",
       "245418           http://dbpedia.org/resource/Wen-bin_Chen   \n",
       "307316  http://dbpedia.org/resource/Wisconsin_gubernat...   \n",
       "359337  http://dbpedia.org/resource/Young_v_Bristol_Ae...   \n",
       "\n",
       "                             abstract  \n",
       "14700     Traditional Korean medicine  \n",
       "18892       Transportation in Ecuador  \n",
       "63810                             |},  \n",
       "98069                        The U.S.  \n",
       "186537        Volcanoes of Mozambique  \n",
       "211126  Waffen-SS Division Commanders  \n",
       "245418                 Wen-bin Chen (  \n",
       "307316              ^ Recall Election  \n",
       "359337                       Young v.  "
      ]
     },
     "execution_count": 440,
     "metadata": {},
     "output_type": "execute_result"
    }
   ],
   "source": [
    "data[['title', 'key', 'abstract']][(data['abstract_len'] ==3)]"
   ]
  },
  {
   "cell_type": "markdown",
   "metadata": {},
   "source": [
    "### Alternative titles"
   ]
  },
  {
   "cell_type": "code",
   "execution_count": 444,
   "metadata": {},
   "outputs": [],
   "source": [
    "data['alternatives_count'] = data['alternative_titles'].apply(lambda x: len(x))"
   ]
  },
  {
   "cell_type": "markdown",
   "metadata": {},
   "source": [
    "Počet záznamov, ktoré nemajú žiadny alternatívny nadpis"
   ]
  },
  {
   "cell_type": "code",
   "execution_count": 445,
   "metadata": {},
   "outputs": [
    {
     "data": {
      "text/plain": [
       "197278"
      ]
     },
     "execution_count": 445,
     "metadata": {},
     "output_type": "execute_result"
    }
   ],
   "source": [
    "no_alternatives = data['alternatives_count'].value_counts()[0]\n",
    "no_alternatives"
   ]
  },
  {
   "cell_type": "markdown",
   "metadata": {},
   "source": [
    "Záznam s najväčším počtom alternatívnych nadpisov"
   ]
  },
  {
   "cell_type": "code",
   "execution_count": 446,
   "metadata": {},
   "outputs": [
    {
     "data": {
      "text/plain": [
       "alternatives_count    646\n",
       "dtype: int64"
      ]
     },
     "execution_count": 446,
     "metadata": {},
     "output_type": "execute_result"
    }
   ],
   "source": [
    "data[['alternatives_count']].max()"
   ]
  },
  {
   "cell_type": "code",
   "execution_count": 475,
   "metadata": {},
   "outputs": [
    {
     "data": {
      "text/html": [
       "<div>\n",
       "<style scoped>\n",
       "    .dataframe tbody tr th:only-of-type {\n",
       "        vertical-align: middle;\n",
       "    }\n",
       "\n",
       "    .dataframe tbody tr th {\n",
       "        vertical-align: top;\n",
       "    }\n",
       "\n",
       "    .dataframe thead th {\n",
       "        text-align: right;\n",
       "    }\n",
       "</style>\n",
       "<table border=\"1\" class=\"dataframe\">\n",
       "  <thead>\n",
       "    <tr style=\"text-align: right;\">\n",
       "      <th></th>\n",
       "      <th>title</th>\n",
       "    </tr>\n",
       "  </thead>\n",
       "  <tbody>\n",
       "    <tr>\n",
       "      <th>348849</th>\n",
       "      <td>Yemeni  detainees  at   Guantanamo   Bay</td>\n",
       "    </tr>\n",
       "  </tbody>\n",
       "</table>\n",
       "</div>"
      ],
      "text/plain": [
       "                                           title\n",
       "348849  Yemeni  detainees  at   Guantanamo   Bay"
      ]
     },
     "execution_count": 475,
     "metadata": {},
     "output_type": "execute_result"
    }
   ],
   "source": [
    "data[['title']][(data['alternatives_count'] == 646)]"
   ]
  },
  {
   "cell_type": "markdown",
   "metadata": {},
   "source": [
    "Záznamy s najmenším počtom alternatívnych nadpisov"
   ]
  },
  {
   "cell_type": "code",
   "execution_count": 448,
   "metadata": {},
   "outputs": [
    {
     "data": {
      "text/plain": [
       "alternatives_count    1\n",
       "dtype: int64"
      ]
     },
     "execution_count": 448,
     "metadata": {},
     "output_type": "execute_result"
    }
   ],
   "source": [
    "data[['alternatives_count']][(data['alternatives_count'] > 0)].min()"
   ]
  },
  {
   "cell_type": "code",
   "execution_count": 449,
   "metadata": {},
   "outputs": [
    {
     "data": {
      "text/html": [
       "<div>\n",
       "<style scoped>\n",
       "    .dataframe tbody tr th:only-of-type {\n",
       "        vertical-align: middle;\n",
       "    }\n",
       "\n",
       "    .dataframe tbody tr th {\n",
       "        vertical-align: top;\n",
       "    }\n",
       "\n",
       "    .dataframe thead th {\n",
       "        text-align: right;\n",
       "    }\n",
       "</style>\n",
       "<table border=\"1\" class=\"dataframe\">\n",
       "  <thead>\n",
       "    <tr style=\"text-align: right;\">\n",
       "      <th></th>\n",
       "      <th>title</th>\n",
       "    </tr>\n",
       "  </thead>\n",
       "  <tbody>\n",
       "    <tr>\n",
       "      <th>3</th>\n",
       "      <td>Tony   Roman</td>\n",
       "    </tr>\n",
       "    <tr>\n",
       "      <th>5</th>\n",
       "      <td>Tony   Romano</td>\n",
       "    </tr>\n",
       "    <tr>\n",
       "      <th>14</th>\n",
       "      <td>Tony   Rominger</td>\n",
       "    </tr>\n",
       "    <tr>\n",
       "      <th>25</th>\n",
       "      <td>Tony   Rotherham</td>\n",
       "    </tr>\n",
       "    <tr>\n",
       "      <th>27</th>\n",
       "      <td>Tony   Rougier</td>\n",
       "    </tr>\n",
       "    <tr>\n",
       "      <th>31</th>\n",
       "      <td>Tony   Rudy</td>\n",
       "    </tr>\n",
       "    <tr>\n",
       "      <th>32</th>\n",
       "      <td>Tony   Rumble</td>\n",
       "    </tr>\n",
       "    <tr>\n",
       "      <th>45</th>\n",
       "      <td>Tony   Sakkis</td>\n",
       "    </tr>\n",
       "    <tr>\n",
       "      <th>48</th>\n",
       "      <td>Tony   Sale</td>\n",
       "    </tr>\n",
       "    <tr>\n",
       "      <th>49</th>\n",
       "      <td>Tony   Salerno</td>\n",
       "    </tr>\n",
       "    <tr>\n",
       "      <th>59</th>\n",
       "      <td>Tony   Sandler</td>\n",
       "    </tr>\n",
       "    <tr>\n",
       "      <th>61</th>\n",
       "      <td>Tony   Sanneh</td>\n",
       "    </tr>\n",
       "    <tr>\n",
       "      <th>71</th>\n",
       "      <td>Tony   Saunders   (bassist )</td>\n",
       "    </tr>\n",
       "    <tr>\n",
       "      <th>73</th>\n",
       "      <td>Tony   Sbalbi</td>\n",
       "    </tr>\n",
       "    <tr>\n",
       "      <th>74</th>\n",
       "      <td>Tony   Sbarbaro</td>\n",
       "    </tr>\n",
       "    <tr>\n",
       "      <th>79</th>\n",
       "      <td>Tony   Scherman</td>\n",
       "    </tr>\n",
       "    <tr>\n",
       "      <th>81</th>\n",
       "      <td>Tony   Schiavone</td>\n",
       "    </tr>\n",
       "    <tr>\n",
       "      <th>85</th>\n",
       "      <td>Tony   Schumacher</td>\n",
       "    </tr>\n",
       "    <tr>\n",
       "      <th>91</th>\n",
       "      <td>Tony   Schwartz   (sound  archivist )</td>\n",
       "    </tr>\n",
       "    <tr>\n",
       "      <th>97</th>\n",
       "      <td>Tony   Scott   (disambiguation )</td>\n",
       "    </tr>\n",
       "    <tr>\n",
       "      <th>99</th>\n",
       "      <td>Tony   Scott   (musician )</td>\n",
       "    </tr>\n",
       "    <tr>\n",
       "      <th>105</th>\n",
       "      <td>Tony   Scully</td>\n",
       "    </tr>\n",
       "    <tr>\n",
       "      <th>107</th>\n",
       "      <td>Tony   Secunda</td>\n",
       "    </tr>\n",
       "    <tr>\n",
       "      <th>112</th>\n",
       "      <td>Tony   Serra</td>\n",
       "    </tr>\n",
       "    <tr>\n",
       "      <th>116</th>\n",
       "      <td>Tony   Shafrazi</td>\n",
       "    </tr>\n",
       "    <tr>\n",
       "      <th>121</th>\n",
       "      <td>Tony   Shaw   (rugby  union )</td>\n",
       "    </tr>\n",
       "    <tr>\n",
       "      <th>127</th>\n",
       "      <td>Tony   Shepherd</td>\n",
       "    </tr>\n",
       "    <tr>\n",
       "      <th>132</th>\n",
       "      <td>Tony   Shillitoe</td>\n",
       "    </tr>\n",
       "    <tr>\n",
       "      <th>134</th>\n",
       "      <td>Tony   Shore</td>\n",
       "    </tr>\n",
       "    <tr>\n",
       "      <th>142</th>\n",
       "      <td>Tony   Silva</td>\n",
       "    </tr>\n",
       "    <tr>\n",
       "      <th>...</th>\n",
       "      <td>...</td>\n",
       "    </tr>\n",
       "    <tr>\n",
       "      <th>390718</th>\n",
       "      <td>Zymography</td>\n",
       "    </tr>\n",
       "    <tr>\n",
       "      <th>390719</th>\n",
       "      <td>Zymohiria</td>\n",
       "    </tr>\n",
       "    <tr>\n",
       "      <th>390720</th>\n",
       "      <td>Zymologa</td>\n",
       "    </tr>\n",
       "    <tr>\n",
       "      <th>390735</th>\n",
       "      <td>Zyndram  of   Maszkowice</td>\n",
       "    </tr>\n",
       "    <tr>\n",
       "      <th>390741</th>\n",
       "      <td>Zynga   Dallas</td>\n",
       "    </tr>\n",
       "    <tr>\n",
       "      <th>390745</th>\n",
       "      <td>Zyngier \\u00 F3wka</td>\n",
       "    </tr>\n",
       "    <tr>\n",
       "      <th>390747</th>\n",
       "      <td>Zynoviy   Kovalyk</td>\n",
       "    </tr>\n",
       "    <tr>\n",
       "      <th>390748</th>\n",
       "      <td>Zynx   Health</td>\n",
       "    </tr>\n",
       "    <tr>\n",
       "      <th>390749</th>\n",
       "      <td>Zyoba  people</td>\n",
       "    </tr>\n",
       "    <tr>\n",
       "      <th>390750</th>\n",
       "      <td>Zyon   Cavalera</td>\n",
       "    </tr>\n",
       "    <tr>\n",
       "      <th>390753</th>\n",
       "      <td>Zyra  e   Regjistrimit  t \\u00 E B   Pasurive ...</td>\n",
       "    </tr>\n",
       "    <tr>\n",
       "      <th>390759</th>\n",
       "      <td>Zyrion   Traverse</td>\n",
       "    </tr>\n",
       "    <tr>\n",
       "      <th>390763</th>\n",
       "      <td>Zyryan   District</td>\n",
       "    </tr>\n",
       "    <tr>\n",
       "      <th>390771</th>\n",
       "      <td>Zys \\u0142awice</td>\n",
       "    </tr>\n",
       "    <tr>\n",
       "      <th>390779</th>\n",
       "      <td>Zytglogge</td>\n",
       "    </tr>\n",
       "    <tr>\n",
       "      <th>390783</th>\n",
       "      <td>Zythos  avellanea</td>\n",
       "    </tr>\n",
       "    <tr>\n",
       "      <th>390786</th>\n",
       "      <td>Zythos  erotica</td>\n",
       "    </tr>\n",
       "    <tr>\n",
       "      <th>390787</th>\n",
       "      <td>Zythos  fastigata</td>\n",
       "    </tr>\n",
       "    <tr>\n",
       "      <th>390791</th>\n",
       "      <td>Zythos  strigata</td>\n",
       "    </tr>\n",
       "    <tr>\n",
       "      <th>390797</th>\n",
       "      <td>Zyurangers</td>\n",
       "    </tr>\n",
       "    <tr>\n",
       "      <th>390801</th>\n",
       "      <td>Zyuzino</td>\n",
       "    </tr>\n",
       "    <tr>\n",
       "      <th>390807</th>\n",
       "      <td>Zyvex   Technologies</td>\n",
       "    </tr>\n",
       "    <tr>\n",
       "      <th>390811</th>\n",
       "      <td>Zyxin</td>\n",
       "    </tr>\n",
       "    <tr>\n",
       "      <th>390812</th>\n",
       "      <td>Zyxomma</td>\n",
       "    </tr>\n",
       "    <tr>\n",
       "      <th>390821</th>\n",
       "      <td>Zyzzyva</td>\n",
       "    </tr>\n",
       "    <tr>\n",
       "      <th>390822</th>\n",
       "      <td>Zyzzyva   (magazine )</td>\n",
       "    </tr>\n",
       "    <tr>\n",
       "      <th>390823</th>\n",
       "      <td>Zyzzyx</td>\n",
       "    </tr>\n",
       "    <tr>\n",
       "      <th>390825</th>\n",
       "      <td>Zyzzyxdonta  alata</td>\n",
       "    </tr>\n",
       "    <tr>\n",
       "      <th>390828</th>\n",
       "      <td>Zzebra</td>\n",
       "    </tr>\n",
       "    <tr>\n",
       "      <th>390834</th>\n",
       "      <td>Zzyzx   (album )</td>\n",
       "    </tr>\n",
       "  </tbody>\n",
       "</table>\n",
       "<p>95854 rows × 1 columns</p>\n",
       "</div>"
      ],
      "text/plain": [
       "                                                    title\n",
       "3                                            Tony   Roman\n",
       "5                                           Tony   Romano\n",
       "14                                        Tony   Rominger\n",
       "25                                       Tony   Rotherham\n",
       "27                                         Tony   Rougier\n",
       "31                                            Tony   Rudy\n",
       "32                                          Tony   Rumble\n",
       "45                                          Tony   Sakkis\n",
       "48                                            Tony   Sale\n",
       "49                                         Tony   Salerno\n",
       "59                                         Tony   Sandler\n",
       "61                                          Tony   Sanneh\n",
       "71                           Tony   Saunders   (bassist )\n",
       "73                                          Tony   Sbalbi\n",
       "74                                        Tony   Sbarbaro\n",
       "79                                        Tony   Scherman\n",
       "81                                       Tony   Schiavone\n",
       "85                                      Tony   Schumacher\n",
       "91                  Tony   Schwartz   (sound  archivist )\n",
       "97                       Tony   Scott   (disambiguation )\n",
       "99                             Tony   Scott   (musician )\n",
       "105                                         Tony   Scully\n",
       "107                                        Tony   Secunda\n",
       "112                                          Tony   Serra\n",
       "116                                       Tony   Shafrazi\n",
       "121                         Tony   Shaw   (rugby  union )\n",
       "127                                       Tony   Shepherd\n",
       "132                                      Tony   Shillitoe\n",
       "134                                          Tony   Shore\n",
       "142                                          Tony   Silva\n",
       "...                                                   ...\n",
       "390718                                         Zymography\n",
       "390719                                          Zymohiria\n",
       "390720                                           Zymologa\n",
       "390735                           Zyndram  of   Maszkowice\n",
       "390741                                     Zynga   Dallas\n",
       "390745                                 Zyngier \\u00 F3wka\n",
       "390747                                  Zynoviy   Kovalyk\n",
       "390748                                      Zynx   Health\n",
       "390749                                      Zyoba  people\n",
       "390750                                    Zyon   Cavalera\n",
       "390753  Zyra  e   Regjistrimit  t \\u00 E B   Pasurive ...\n",
       "390759                                  Zyrion   Traverse\n",
       "390763                                  Zyryan   District\n",
       "390771                                    Zys \\u0142awice\n",
       "390779                                          Zytglogge\n",
       "390783                                  Zythos  avellanea\n",
       "390786                                    Zythos  erotica\n",
       "390787                                  Zythos  fastigata\n",
       "390791                                   Zythos  strigata\n",
       "390797                                         Zyurangers\n",
       "390801                                            Zyuzino\n",
       "390807                               Zyvex   Technologies\n",
       "390811                                              Zyxin\n",
       "390812                                            Zyxomma\n",
       "390821                                            Zyzzyva\n",
       "390822                              Zyzzyva   (magazine )\n",
       "390823                                             Zyzzyx\n",
       "390825                                 Zyzzyxdonta  alata\n",
       "390828                                             Zzebra\n",
       "390834                                   Zzyzx   (album )\n",
       "\n",
       "[95854 rows x 1 columns]"
      ]
     },
     "execution_count": 449,
     "metadata": {},
     "output_type": "execute_result"
    }
   ],
   "source": [
    "data[['title']][(data['alternatives_count'] == 1)]"
   ]
  },
  {
   "cell_type": "markdown",
   "metadata": {},
   "source": [
    "### Categories"
   ]
  },
  {
   "cell_type": "code",
   "execution_count": 453,
   "metadata": {},
   "outputs": [],
   "source": [
    "data['categories_count'] = data['category'].apply(lambda x: len(x))"
   ]
  },
  {
   "cell_type": "markdown",
   "metadata": {},
   "source": [
    "Počet záznamov, ktoré nemajú priradenú žiadnu kategóriu"
   ]
  },
  {
   "cell_type": "code",
   "execution_count": 454,
   "metadata": {},
   "outputs": [
    {
     "data": {
      "text/plain": [
       "26055"
      ]
     },
     "execution_count": 454,
     "metadata": {},
     "output_type": "execute_result"
    }
   ],
   "source": [
    "no_categories = data['categories_count'].value_counts()[0]\n",
    "no_categories"
   ]
  },
  {
   "cell_type": "markdown",
   "metadata": {},
   "source": [
    "Záznamy s najväčším počtom kategórií"
   ]
  },
  {
   "cell_type": "code",
   "execution_count": 455,
   "metadata": {},
   "outputs": [
    {
     "data": {
      "text/plain": [
       "categories_count    201\n",
       "dtype: int64"
      ]
     },
     "execution_count": 455,
     "metadata": {},
     "output_type": "execute_result"
    }
   ],
   "source": [
    "data[['categories_count']].max()"
   ]
  },
  {
   "cell_type": "code",
   "execution_count": 476,
   "metadata": {},
   "outputs": [
    {
     "data": {
      "text/html": [
       "<div>\n",
       "<style scoped>\n",
       "    .dataframe tbody tr th:only-of-type {\n",
       "        vertical-align: middle;\n",
       "    }\n",
       "\n",
       "    .dataframe tbody tr th {\n",
       "        vertical-align: top;\n",
       "    }\n",
       "\n",
       "    .dataframe thead th {\n",
       "        text-align: right;\n",
       "    }\n",
       "</style>\n",
       "<table border=\"1\" class=\"dataframe\">\n",
       "  <thead>\n",
       "    <tr style=\"text-align: right;\">\n",
       "      <th></th>\n",
       "      <th>title</th>\n",
       "    </tr>\n",
       "  </thead>\n",
       "  <tbody>\n",
       "    <tr>\n",
       "      <th>94996</th>\n",
       "      <td>United   Nations   Charter</td>\n",
       "    </tr>\n",
       "  </tbody>\n",
       "</table>\n",
       "</div>"
      ],
      "text/plain": [
       "                            title\n",
       "94996  United   Nations   Charter"
      ]
     },
     "execution_count": 476,
     "metadata": {},
     "output_type": "execute_result"
    }
   ],
   "source": [
    "data[['title']][(data['categories_count'] == 201)]"
   ]
  },
  {
   "cell_type": "markdown",
   "metadata": {},
   "source": [
    "Záznamy s najmenším počtom kategórií"
   ]
  },
  {
   "cell_type": "code",
   "execution_count": 457,
   "metadata": {},
   "outputs": [
    {
     "data": {
      "text/plain": [
       "categories_count    1\n",
       "dtype: int64"
      ]
     },
     "execution_count": 457,
     "metadata": {},
     "output_type": "execute_result"
    }
   ],
   "source": [
    "data[['categories_count']][(data['categories_count'] > 0)].min()"
   ]
  },
  {
   "cell_type": "code",
   "execution_count": 458,
   "metadata": {},
   "outputs": [
    {
     "data": {
      "text/html": [
       "<div>\n",
       "<style scoped>\n",
       "    .dataframe tbody tr th:only-of-type {\n",
       "        vertical-align: middle;\n",
       "    }\n",
       "\n",
       "    .dataframe tbody tr th {\n",
       "        vertical-align: top;\n",
       "    }\n",
       "\n",
       "    .dataframe thead th {\n",
       "        text-align: right;\n",
       "    }\n",
       "</style>\n",
       "<table border=\"1\" class=\"dataframe\">\n",
       "  <thead>\n",
       "    <tr style=\"text-align: right;\">\n",
       "      <th></th>\n",
       "      <th>title</th>\n",
       "    </tr>\n",
       "  </thead>\n",
       "  <tbody>\n",
       "    <tr>\n",
       "      <th>100</th>\n",
       "      <td>Tony   Scott   Andrews</td>\n",
       "    </tr>\n",
       "    <tr>\n",
       "      <th>173</th>\n",
       "      <td>NaN</td>\n",
       "    </tr>\n",
       "    <tr>\n",
       "      <th>251</th>\n",
       "      <td>NaN</td>\n",
       "    </tr>\n",
       "    <tr>\n",
       "      <th>323</th>\n",
       "      <td>Tony   Thacker</td>\n",
       "    </tr>\n",
       "    <tr>\n",
       "      <th>343</th>\n",
       "      <td>Tony   Tilse</td>\n",
       "    </tr>\n",
       "    <tr>\n",
       "      <th>443</th>\n",
       "      <td>NaN</td>\n",
       "    </tr>\n",
       "    <tr>\n",
       "      <th>462</th>\n",
       "      <td>Tony   Was  an   Ex- Con</td>\n",
       "    </tr>\n",
       "    <tr>\n",
       "      <th>472</th>\n",
       "      <td>NaN</td>\n",
       "    </tr>\n",
       "    <tr>\n",
       "      <th>553</th>\n",
       "      <td>Tony   Young   (director )</td>\n",
       "    </tr>\n",
       "    <tr>\n",
       "      <th>560</th>\n",
       "      <td>Tony   Zarb</td>\n",
       "    </tr>\n",
       "    <tr>\n",
       "      <th>606</th>\n",
       "      <td>Tonya   Zavasta</td>\n",
       "    </tr>\n",
       "    <tr>\n",
       "      <th>607</th>\n",
       "      <td>Tonyahaber</td>\n",
       "    </tr>\n",
       "    <tr>\n",
       "      <th>609</th>\n",
       "      <td>Tonymore</td>\n",
       "    </tr>\n",
       "    <tr>\n",
       "      <th>617</th>\n",
       "      <td>Tonyrefail</td>\n",
       "    </tr>\n",
       "    <tr>\n",
       "      <th>644</th>\n",
       "      <td>Too   Bright ,   Just   Right ,   Good   Night...</td>\n",
       "    </tr>\n",
       "    <tr>\n",
       "      <th>660</th>\n",
       "      <td>Too   Cold</td>\n",
       "    </tr>\n",
       "    <tr>\n",
       "      <th>664</th>\n",
       "      <td>Too   Cool</td>\n",
       "    </tr>\n",
       "    <tr>\n",
       "      <th>665</th>\n",
       "      <td>NaN</td>\n",
       "    </tr>\n",
       "    <tr>\n",
       "      <th>682</th>\n",
       "      <td>Too   Easy</td>\n",
       "    </tr>\n",
       "    <tr>\n",
       "      <th>735</th>\n",
       "      <td>NaN</td>\n",
       "    </tr>\n",
       "    <tr>\n",
       "      <th>738</th>\n",
       "      <td>Too   Late  for   Hallelujah</td>\n",
       "    </tr>\n",
       "    <tr>\n",
       "      <th>751</th>\n",
       "      <td>NaN</td>\n",
       "    </tr>\n",
       "    <tr>\n",
       "      <th>753</th>\n",
       "      <td>Too   Late  to   Die   Young</td>\n",
       "    </tr>\n",
       "    <tr>\n",
       "      <th>811</th>\n",
       "      <td>Too   Much ,   Too   Young ,   Too   Fast</td>\n",
       "    </tr>\n",
       "    <tr>\n",
       "      <th>812</th>\n",
       "      <td>NaN</td>\n",
       "    </tr>\n",
       "    <tr>\n",
       "      <th>825</th>\n",
       "      <td>Too   Much   For   Tv</td>\n",
       "    </tr>\n",
       "    <tr>\n",
       "      <th>842</th>\n",
       "      <td>Too   Much   Media</td>\n",
       "    </tr>\n",
       "    <tr>\n",
       "      <th>852</th>\n",
       "      <td>Too   Much   Stereo</td>\n",
       "    </tr>\n",
       "    <tr>\n",
       "      <th>869</th>\n",
       "      <td>Too   Much  of  a   Good   Thing   (radio  play )</td>\n",
       "    </tr>\n",
       "    <tr>\n",
       "      <th>871</th>\n",
       "      <td>Too   Much  to   Do</td>\n",
       "    </tr>\n",
       "    <tr>\n",
       "      <th>...</th>\n",
       "      <td>...</td>\n",
       "    </tr>\n",
       "    <tr>\n",
       "      <th>390745</th>\n",
       "      <td>Zyngier \\u00 F3wka</td>\n",
       "    </tr>\n",
       "    <tr>\n",
       "      <th>390746</th>\n",
       "      <td>Zynie</td>\n",
       "    </tr>\n",
       "    <tr>\n",
       "      <th>390753</th>\n",
       "      <td>Zyra  e   Regjistrimit  t \\u00 E B   Pasurive ...</td>\n",
       "    </tr>\n",
       "    <tr>\n",
       "      <th>390755</th>\n",
       "      <td>Zyras</td>\n",
       "    </tr>\n",
       "    <tr>\n",
       "      <th>390770</th>\n",
       "      <td>Zyryansky   District</td>\n",
       "    </tr>\n",
       "    <tr>\n",
       "      <th>390771</th>\n",
       "      <td>Zys \\u0142awice</td>\n",
       "    </tr>\n",
       "    <tr>\n",
       "      <th>390772</th>\n",
       "      <td>Zystrognophos</td>\n",
       "    </tr>\n",
       "    <tr>\n",
       "      <th>390775</th>\n",
       "      <td>NaN</td>\n",
       "    </tr>\n",
       "    <tr>\n",
       "      <th>390776</th>\n",
       "      <td>NaN</td>\n",
       "    </tr>\n",
       "    <tr>\n",
       "      <th>390781</th>\n",
       "      <td>Zythos</td>\n",
       "    </tr>\n",
       "    <tr>\n",
       "      <th>390793</th>\n",
       "      <td>NaN</td>\n",
       "    </tr>\n",
       "    <tr>\n",
       "      <th>390794</th>\n",
       "      <td>Zytronic</td>\n",
       "    </tr>\n",
       "    <tr>\n",
       "      <th>390797</th>\n",
       "      <td>Zyurangers</td>\n",
       "    </tr>\n",
       "    <tr>\n",
       "      <th>390799</th>\n",
       "      <td>Zyuri</td>\n",
       "    </tr>\n",
       "    <tr>\n",
       "      <th>390800</th>\n",
       "      <td>Zyurunly</td>\n",
       "    </tr>\n",
       "    <tr>\n",
       "      <th>390802</th>\n",
       "      <td>Zyuzino ,   Belarus</td>\n",
       "    </tr>\n",
       "    <tr>\n",
       "      <th>390804</th>\n",
       "      <td>Zyuzino   District</td>\n",
       "    </tr>\n",
       "    <tr>\n",
       "      <th>390806</th>\n",
       "      <td>Zyvex   Marine</td>\n",
       "    </tr>\n",
       "    <tr>\n",
       "      <th>390812</th>\n",
       "      <td>Zyxomma</td>\n",
       "    </tr>\n",
       "    <tr>\n",
       "      <th>390814</th>\n",
       "      <td>Zyzdrojowa   Wola</td>\n",
       "    </tr>\n",
       "    <tr>\n",
       "      <th>390815</th>\n",
       "      <td>Zyzdrojowy   Piecek</td>\n",
       "    </tr>\n",
       "    <tr>\n",
       "      <th>390816</th>\n",
       "      <td>Zyzomys</td>\n",
       "    </tr>\n",
       "    <tr>\n",
       "      <th>390817</th>\n",
       "      <td>Zyzypyge</td>\n",
       "    </tr>\n",
       "    <tr>\n",
       "      <th>390819</th>\n",
       "      <td>NaN</td>\n",
       "    </tr>\n",
       "    <tr>\n",
       "      <th>390820</th>\n",
       "      <td>Zyzzogeton</td>\n",
       "    </tr>\n",
       "    <tr>\n",
       "      <th>390821</th>\n",
       "      <td>Zyzzyva</td>\n",
       "    </tr>\n",
       "    <tr>\n",
       "      <th>390825</th>\n",
       "      <td>Zyzzyxdonta  alata</td>\n",
       "    </tr>\n",
       "    <tr>\n",
       "      <th>390826</th>\n",
       "      <td>Zyzzyzus</td>\n",
       "    </tr>\n",
       "    <tr>\n",
       "      <th>390831</th>\n",
       "      <td>Zzyczesiya</td>\n",
       "    </tr>\n",
       "    <tr>\n",
       "      <th>390837</th>\n",
       "      <td>NaN</td>\n",
       "    </tr>\n",
       "  </tbody>\n",
       "</table>\n",
       "<p>92237 rows × 1 columns</p>\n",
       "</div>"
      ],
      "text/plain": [
       "                                                    title\n",
       "100                                Tony   Scott   Andrews\n",
       "173                                                   NaN\n",
       "251                                                   NaN\n",
       "323                                        Tony   Thacker\n",
       "343                                          Tony   Tilse\n",
       "443                                                   NaN\n",
       "462                              Tony   Was  an   Ex- Con\n",
       "472                                                   NaN\n",
       "553                            Tony   Young   (director )\n",
       "560                                           Tony   Zarb\n",
       "606                                       Tonya   Zavasta\n",
       "607                                            Tonyahaber\n",
       "609                                              Tonymore\n",
       "617                                            Tonyrefail\n",
       "644     Too   Bright ,   Just   Right ,   Good   Night...\n",
       "660                                            Too   Cold\n",
       "664                                            Too   Cool\n",
       "665                                                   NaN\n",
       "682                                            Too   Easy\n",
       "735                                                   NaN\n",
       "738                          Too   Late  for   Hallelujah\n",
       "751                                                   NaN\n",
       "753                          Too   Late  to   Die   Young\n",
       "811             Too   Much ,   Too   Young ,   Too   Fast\n",
       "812                                                   NaN\n",
       "825                                 Too   Much   For   Tv\n",
       "842                                    Too   Much   Media\n",
       "852                                   Too   Much   Stereo\n",
       "869     Too   Much  of  a   Good   Thing   (radio  play )\n",
       "871                                   Too   Much  to   Do\n",
       "...                                                   ...\n",
       "390745                                 Zyngier \\u00 F3wka\n",
       "390746                                              Zynie\n",
       "390753  Zyra  e   Regjistrimit  t \\u00 E B   Pasurive ...\n",
       "390755                                              Zyras\n",
       "390770                               Zyryansky   District\n",
       "390771                                    Zys \\u0142awice\n",
       "390772                                      Zystrognophos\n",
       "390775                                                NaN\n",
       "390776                                                NaN\n",
       "390781                                             Zythos\n",
       "390793                                                NaN\n",
       "390794                                           Zytronic\n",
       "390797                                         Zyurangers\n",
       "390799                                              Zyuri\n",
       "390800                                           Zyurunly\n",
       "390802                                Zyuzino ,   Belarus\n",
       "390804                                 Zyuzino   District\n",
       "390806                                     Zyvex   Marine\n",
       "390812                                            Zyxomma\n",
       "390814                                  Zyzdrojowa   Wola\n",
       "390815                                Zyzdrojowy   Piecek\n",
       "390816                                            Zyzomys\n",
       "390817                                           Zyzypyge\n",
       "390819                                                NaN\n",
       "390820                                         Zyzzogeton\n",
       "390821                                            Zyzzyva\n",
       "390825                                 Zyzzyxdonta  alata\n",
       "390826                                           Zyzzyzus\n",
       "390831                                         Zzyczesiya\n",
       "390837                                                NaN\n",
       "\n",
       "[92237 rows x 1 columns]"
      ]
     },
     "execution_count": 458,
     "metadata": {},
     "output_type": "execute_result"
    }
   ],
   "source": [
    "data[['title']][(data['categories_count'] == 1)]"
   ]
  },
  {
   "cell_type": "markdown",
   "metadata": {},
   "source": [
    "Sčítanie hodnôt zo všetkých súborov s dátami"
   ]
  },
  {
   "cell_type": "code",
   "execution_count": 548,
   "metadata": {},
   "outputs": [],
   "source": [
    "data_length = 4390844"
   ]
  },
  {
   "cell_type": "code",
   "execution_count": 544,
   "metadata": {},
   "outputs": [
    {
     "data": {
      "text/plain": [
       "406264"
      ]
     },
     "execution_count": 544,
     "metadata": {},
     "output_type": "execute_result"
    }
   ],
   "source": [
    "no_abstract = 41957 + 53936 + 44714 + 45798 + 43436 + 43712 + 44623 + 43643 + 44445\n",
    "no_abstract"
   ]
  },
  {
   "cell_type": "code",
   "execution_count": 545,
   "metadata": {},
   "outputs": [
    {
     "data": {
      "text/plain": [
       "2241172"
      ]
     },
     "execution_count": 545,
     "metadata": {},
     "output_type": "execute_result"
    }
   ],
   "source": [
    "no_alternatives = 246149 + 253605 + 252610 + 258734 + 257270 + 263340 + 253720 + 258466 + 197278\n",
    "no_alternatives"
   ]
  },
  {
   "cell_type": "code",
   "execution_count": 546,
   "metadata": {},
   "outputs": [
    {
     "data": {
      "text/plain": [
       "265238"
      ]
     },
     "execution_count": 546,
     "metadata": {},
     "output_type": "execute_result"
    }
   ],
   "source": [
    "no_categories = 22719 + 33800 + 31108 + 29299 + 31775 + 28525 + 33480 + 28477 + 26055\n",
    "no_categories"
   ]
  },
  {
   "cell_type": "code",
   "execution_count": 543,
   "metadata": {},
   "outputs": [
    {
     "data": {
      "text/plain": [
       "1945449"
      ]
     },
     "execution_count": 543,
     "metadata": {},
     "output_type": "execute_result"
    }
   ],
   "source": [
    "all_data = 235243 + 221673 + 223496 + 218261 + 218618 + 214881 + 220299 + 219448 + 173530\n",
    "all_data"
   ]
  },
  {
   "cell_type": "markdown",
   "metadata": {},
   "source": [
    "### Celkové štatistiky"
   ]
  },
  {
   "cell_type": "markdown",
   "metadata": {},
   "source": [
    "Koľko percent záznamov nemalo vyplnený abstrakt"
   ]
  },
  {
   "cell_type": "code",
   "execution_count": 549,
   "metadata": {},
   "outputs": [
    {
     "data": {
      "text/plain": [
       "9.25"
      ]
     },
     "execution_count": 549,
     "metadata": {},
     "output_type": "execute_result"
    }
   ],
   "source": [
    "round(no_abstract / data_length * 100, 2)"
   ]
  },
  {
   "cell_type": "markdown",
   "metadata": {},
   "source": [
    "Koľko percent záznamov nemalo žiadny alternatívny nadpis"
   ]
  },
  {
   "cell_type": "code",
   "execution_count": 550,
   "metadata": {},
   "outputs": [
    {
     "data": {
      "text/plain": [
       "51.04"
      ]
     },
     "execution_count": 550,
     "metadata": {},
     "output_type": "execute_result"
    }
   ],
   "source": [
    "round(no_alternatives / data_length * 100, 2)"
   ]
  },
  {
   "cell_type": "markdown",
   "metadata": {},
   "source": [
    "Koľko percent záznamov nemalo priradenú žiadnu kategóriu"
   ]
  },
  {
   "cell_type": "code",
   "execution_count": 551,
   "metadata": {},
   "outputs": [
    {
     "data": {
      "text/plain": [
       "6.04"
      ]
     },
     "execution_count": 551,
     "metadata": {},
     "output_type": "execute_result"
    }
   ],
   "source": [
    "round(no_categories / data_length * 100, 2)"
   ]
  },
  {
   "cell_type": "markdown",
   "metadata": {},
   "source": [
    "Koľko percent záznamov má vyplnené všetky údaje"
   ]
  },
  {
   "cell_type": "code",
   "execution_count": 552,
   "metadata": {},
   "outputs": [
    {
     "data": {
      "text/plain": [
       "44.31"
      ]
     },
     "execution_count": 552,
     "metadata": {},
     "output_type": "execute_result"
    }
   ],
   "source": [
    "round(all_data / data_length * 100, 2)"
   ]
  },
  {
   "cell_type": "markdown",
   "metadata": {},
   "source": [
    "Pomocné príkazy"
   ]
  },
  {
   "cell_type": "code",
   "execution_count": 465,
   "metadata": {},
   "outputs": [],
   "source": [
    "all_data = len(data[(data['categories_count'] > 0) & (data['alternatives_count'] > 0) & (data['abstract'] != 'No abstract')])"
   ]
  },
  {
   "cell_type": "code",
   "execution_count": 467,
   "metadata": {},
   "outputs": [],
   "source": [
    "alternatives = data[['title', 'alternatives_count']]"
   ]
  },
  {
   "cell_type": "code",
   "execution_count": 468,
   "metadata": {},
   "outputs": [],
   "source": [
    "alternatives.to_csv(path_or_buf=\"/Users/Martina/Desktop/file9_alternatives.csv\")"
   ]
  },
  {
   "cell_type": "code",
   "execution_count": 469,
   "metadata": {},
   "outputs": [],
   "source": [
    "categories = data[['title', 'categories_count']]"
   ]
  },
  {
   "cell_type": "code",
   "execution_count": 470,
   "metadata": {},
   "outputs": [],
   "source": [
    "categories.to_csv(path_or_buf=\"/Users/Martina/Desktop/file9_categories.csv\")"
   ]
  },
  {
   "cell_type": "code",
   "execution_count": 471,
   "metadata": {},
   "outputs": [],
   "source": [
    "abstracts = data[['title', 'abstract_len']]"
   ]
  },
  {
   "cell_type": "code",
   "execution_count": 472,
   "metadata": {},
   "outputs": [],
   "source": [
    "abstracts.to_csv(path_or_buf=\"/Users/Martina/Desktop/file9_abstracts.csv\")"
   ]
  },
  {
   "cell_type": "markdown",
   "metadata": {},
   "source": [
    "### Priemer, modus, medián"
   ]
  },
  {
   "cell_type": "code",
   "execution_count": 613,
   "metadata": {},
   "outputs": [],
   "source": [
    "data_1 = pd.read_csv('/Users/Martina/Desktop/File_1/file1_categories.csv', index_col=\"title\")\n",
    "del data_1['Unnamed: 0']\n",
    "data_1 = data_1.reset_index()"
   ]
  },
  {
   "cell_type": "code",
   "execution_count": 614,
   "metadata": {},
   "outputs": [],
   "source": [
    "data_2 = pd.read_csv('/Users/Martina/Desktop/File_2/file2_categories.csv', index_col=\"title\")\n",
    "del data_2['Unnamed: 0']\n",
    "data_2 = data_2.reset_index()"
   ]
  },
  {
   "cell_type": "code",
   "execution_count": 615,
   "metadata": {},
   "outputs": [],
   "source": [
    "data_3 = pd.read_csv('/Users/Martina/Desktop/File_3/file3_categories.csv', index_col=\"title\")\n",
    "del data_3['Unnamed: 0']\n",
    "data_3 = data_3.reset_index()"
   ]
  },
  {
   "cell_type": "code",
   "execution_count": 616,
   "metadata": {},
   "outputs": [],
   "source": [
    "data_4 = pd.read_csv('/Users/Martina/Desktop/File_4/file4_categories.csv', index_col=\"title\")\n",
    "del data_4['Unnamed: 0']\n",
    "data_4 = data_4.reset_index()"
   ]
  },
  {
   "cell_type": "code",
   "execution_count": 617,
   "metadata": {},
   "outputs": [],
   "source": [
    "data_5 = pd.read_csv('/Users/Martina/Desktop/File_5/file5_categories.csv', index_col=\"title\")\n",
    "del data_5['Unnamed: 0']\n",
    "data_5 = data_5.reset_index()"
   ]
  },
  {
   "cell_type": "code",
   "execution_count": 618,
   "metadata": {},
   "outputs": [],
   "source": [
    "data_6 = pd.read_csv('/Users/Martina/Desktop/File_6/file6_categories.csv', index_col=\"title\")\n",
    "del data_6['Unnamed: 0']\n",
    "data_6 = data_6.reset_index()"
   ]
  },
  {
   "cell_type": "code",
   "execution_count": 619,
   "metadata": {},
   "outputs": [],
   "source": [
    "data_7 = pd.read_csv('/Users/Martina/Desktop/File_7/file7_categories.csv', index_col=\"title\")\n",
    "del data_7['Unnamed: 0']\n",
    "data_7 = data_7.reset_index()"
   ]
  },
  {
   "cell_type": "code",
   "execution_count": 620,
   "metadata": {},
   "outputs": [],
   "source": [
    "data_8 = pd.read_csv('/Users/Martina/Desktop/File_8/file8_categories.csv', index_col=\"title\")\n",
    "del data_8['Unnamed: 0']\n",
    "data_8 = data_8.reset_index()"
   ]
  },
  {
   "cell_type": "code",
   "execution_count": 621,
   "metadata": {},
   "outputs": [],
   "source": [
    "data_9 = pd.read_csv('/Users/Martina/Desktop/File_9/file9_categories.csv', index_col=\"title\")\n",
    "del data_9['Unnamed: 0']\n",
    "data_9 = data_9.reset_index()"
   ]
  },
  {
   "cell_type": "code",
   "execution_count": 622,
   "metadata": {},
   "outputs": [],
   "source": [
    "data = pd.concat([data_1, data_2, data_3, data_4, data_5, data_6, data_7, data_8, data_9])"
   ]
  },
  {
   "cell_type": "markdown",
   "metadata": {},
   "source": [
    "Priemer"
   ]
  },
  {
   "cell_type": "code",
   "execution_count": 623,
   "metadata": {},
   "outputs": [
    {
     "data": {
      "text/plain": [
       "3.77"
      ]
     },
     "execution_count": 623,
     "metadata": {},
     "output_type": "execute_result"
    }
   ],
   "source": [
    "round(data['categories_count'].mean(axis=0), 2)"
   ]
  },
  {
   "cell_type": "markdown",
   "metadata": {},
   "source": [
    "Modus"
   ]
  },
  {
   "cell_type": "code",
   "execution_count": 624,
   "metadata": {},
   "outputs": [
    {
     "data": {
      "text/plain": [
       "0    1\n",
       "dtype: int64"
      ]
     },
     "execution_count": 624,
     "metadata": {},
     "output_type": "execute_result"
    }
   ],
   "source": [
    "data['categories_count'].mode()"
   ]
  },
  {
   "cell_type": "markdown",
   "metadata": {},
   "source": [
    "Medián"
   ]
  },
  {
   "cell_type": "code",
   "execution_count": 625,
   "metadata": {},
   "outputs": [
    {
     "data": {
      "text/plain": [
       "3.0"
      ]
     },
     "execution_count": 625,
     "metadata": {},
     "output_type": "execute_result"
    }
   ],
   "source": [
    "data['categories_count'].median(axis=0)"
   ]
  }
 ],
 "metadata": {
  "kernelspec": {
   "display_name": "Python 3",
   "language": "python",
   "name": "python3"
  },
  "language_info": {
   "codemirror_mode": {
    "name": "ipython",
    "version": 3
   },
   "file_extension": ".py",
   "mimetype": "text/x-python",
   "name": "python",
   "nbconvert_exporter": "python",
   "pygments_lexer": "ipython3",
   "version": "3.6.8"
  }
 },
 "nbformat": 4,
 "nbformat_minor": 2
}
